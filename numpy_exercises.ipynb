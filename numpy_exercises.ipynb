{
 "cells": [
  {
   "cell_type": "code",
   "execution_count": 5,
   "id": "c917c673-62d4-4f92-afb8-69c72f90ba60",
   "metadata": {},
   "outputs": [],
   "source": [
    "import numpy as np"
   ]
  },
  {
   "cell_type": "code",
   "execution_count": 7,
   "id": "20829f0d-565a-4b57-93fe-5f8cd52b472e",
   "metadata": {},
   "outputs": [
    {
     "data": {
      "text/plain": [
       "array([ 4, 10, 12, 23, -2, -1,  0,  0,  0, -6,  3, -7])"
      ]
     },
     "execution_count": 7,
     "metadata": {},
     "output_type": "execute_result"
    }
   ],
   "source": [
    "a = np.array([4, 10, 12, 23, -2, -1, 0, 0, 0, -6, 3, -7])\n",
    "a"
   ]
  },
  {
   "cell_type": "markdown",
   "id": "cee9c3ef-ed2e-40a4-b5f3-9dbabf52eb6f",
   "metadata": {
    "tags": []
   },
   "source": [
    "### 1. How many negative numbers are there?"
   ]
  },
  {
   "cell_type": "code",
   "execution_count": 9,
   "id": "cd77feb0-71a0-4b60-bb77-47218cb8ca53",
   "metadata": {},
   "outputs": [
    {
     "data": {
      "text/plain": [
       "4"
      ]
     },
     "execution_count": 9,
     "metadata": {},
     "output_type": "execute_result"
    }
   ],
   "source": [
    "negatives = a < 0\n",
    "len(a[negatives])"
   ]
  },
  {
   "cell_type": "markdown",
   "id": "0af7e49a-5cd2-4b2e-a15e-4bb615e5caf6",
   "metadata": {},
   "source": [
    "### 2. How many positive numbers are there?"
   ]
  },
  {
   "cell_type": "code",
   "execution_count": 12,
   "id": "80c452cd-538a-4108-aa10-cd63c7444391",
   "metadata": {},
   "outputs": [
    {
     "data": {
      "text/plain": [
       "array([ True,  True,  True,  True, False, False, False, False, False,\n",
       "       False,  True, False])"
      ]
     },
     "execution_count": 12,
     "metadata": {},
     "output_type": "execute_result"
    }
   ],
   "source": [
    "positives = a > 0\n",
    "#len(a[positives])\n",
    "positives"
   ]
  },
  {
   "cell_type": "markdown",
   "id": "337af71f-e6db-495a-add7-42487574a78c",
   "metadata": {},
   "source": [
    "### 3. How many even positive numbers are there?"
   ]
  },
  {
   "cell_type": "code",
   "execution_count": 14,
   "id": "8f2f47a2-bafe-4603-87e7-2c4415ff8b27",
   "metadata": {},
   "outputs": [
    {
     "data": {
      "text/plain": [
       "3"
      ]
     },
     "execution_count": 14,
     "metadata": {},
     "output_type": "execute_result"
    }
   ],
   "source": [
    "poseven = (a > 0) & (a % 2 == 0)\n",
    "len(a[poseven])"
   ]
  },
  {
   "cell_type": "markdown",
   "id": "526d2770-28fd-420e-a7c5-9a3acdde6985",
   "metadata": {},
   "source": [
    "### 4. If you were to add 3 to each data point, how many positive numbers would there be?"
   ]
  },
  {
   "cell_type": "code",
   "execution_count": 31,
   "id": "666e6693-6ada-463c-a641-93551501203a",
   "metadata": {},
   "outputs": [
    {
     "data": {
      "text/plain": [
       "array([ 7, 13, 15, 26,  1,  2,  3,  3,  3,  6])"
      ]
     },
     "execution_count": 31,
     "metadata": {},
     "output_type": "execute_result"
    }
   ],
   "source": [
    "(a+3)[(a+3) > 0]"
   ]
  },
  {
   "cell_type": "markdown",
   "id": "f57f2041-94f9-46bd-b1e0-49e392454ae8",
   "metadata": {},
   "source": [
    "### 5. If you squared each number, what would the new mean and standard deviation be?"
   ]
  },
  {
   "cell_type": "code",
   "execution_count": 26,
   "id": "a6ce0440-3643-4efa-adcb-22877e19ebbd",
   "metadata": {},
   "outputs": [
    {
     "name": "stdout",
     "output_type": "stream",
     "text": [
      "New list: [ 16 100 144 529   4   1   0   0   0  36   9  49]\n",
      "Mean: 74.0\n",
      "Standard deviation: 144.0243035046516\n"
     ]
    }
   ],
   "source": [
    "sqr = a ** 2\n",
    "print(f'New list: {sqr}')\n",
    "print(f'Mean: {(sqr.mean())}')\n",
    "print(f'Standard deviation: {np.std(sqr)}')"
   ]
  },
  {
   "cell_type": "markdown",
   "id": "00b96a1c-31bd-4611-83d8-6ead8ca43004",
   "metadata": {},
   "source": [
    "### 6. A common statistical operation on a dataset is centering. This means to adjust the data such that the mean of the data is 0. This is done by subtracting the mean from each data point. Center the data set. See this link for more on centering."
   ]
  },
  {
   "cell_type": "code",
   "execution_count": 28,
   "id": "39f1a743-9143-4961-80d8-9d8e30c24023",
   "metadata": {},
   "outputs": [
    {
     "data": {
      "text/plain": [
       "array([  1.,   7.,   9.,  20.,  -5.,  -4.,  -3.,  -3.,  -3.,  -9.,   0.,\n",
       "       -10.])"
      ]
     },
     "execution_count": 28,
     "metadata": {},
     "output_type": "execute_result"
    }
   ],
   "source": [
    "center = a.mean()\n",
    "centered_a = a - center\n",
    "centered_a"
   ]
  },
  {
   "cell_type": "markdown",
   "id": "363a1a20-3b02-4821-b220-621fe6f01c44",
   "metadata": {
    "tags": []
   },
   "source": [
    "### 7. Calculate the z-score for each data point. Recall that the z-score is given by:"
   ]
  },
  {
   "cell_type": "code",
   "execution_count": 30,
   "id": "b2f152e8-d629-4b1e-8bab-2a7d802de78f",
   "metadata": {},
   "outputs": [
    {
     "data": {
      "text/plain": [
       "array([ 0.12403473,  0.86824314,  1.11631261,  2.48069469, -0.62017367,\n",
       "       -0.49613894, -0.3721042 , -0.3721042 , -0.3721042 , -1.11631261,\n",
       "        0.        , -1.24034735])"
      ]
     },
     "execution_count": 30,
     "metadata": {},
     "output_type": "execute_result"
    }
   ],
   "source": [
    "deviation = np.std(a)\n",
    "meanmean = a.mean()\n",
    "\n",
    "z = (a-meanmean)/deviation\n",
    "\n",
    "z"
   ]
  },
  {
   "cell_type": "markdown",
   "id": "0cbf5db1-9ab8-4563-8a3f-4a99c1b627dd",
   "metadata": {},
   "source": [
    "### 8. Copy the setup and exercise directions from More Numpy Practice into your numpy_exercises.py and add your solutions."
   ]
  },
  {
   "cell_type": "code",
   "execution_count": null,
   "id": "1df11342-7e7c-4427-9803-3d33f4f835ae",
   "metadata": {},
   "outputs": [],
   "source": [
    "#Done in numpy_exercises_part_1.py"
   ]
  }
 ],
 "metadata": {
  "kernelspec": {
   "display_name": "Python 3 (ipykernel)",
   "language": "python",
   "name": "python3"
  },
  "language_info": {
   "codemirror_mode": {
    "name": "ipython",
    "version": 3
   },
   "file_extension": ".py",
   "mimetype": "text/x-python",
   "name": "python",
   "nbconvert_exporter": "python",
   "pygments_lexer": "ipython3",
   "version": "3.10.9"
  }
 },
 "nbformat": 4,
 "nbformat_minor": 5
}
